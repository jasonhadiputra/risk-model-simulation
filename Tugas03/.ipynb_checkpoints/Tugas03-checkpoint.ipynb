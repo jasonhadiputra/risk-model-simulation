{
 "cells": [
  {
   "cell_type": "markdown",
   "metadata": {
    "id": "3HDObyYS7aIp"
   },
   "source": [
    "# AK4183 Model Risiko II dan Simulasi"
   ]
  },
  {
   "cell_type": "markdown",
   "metadata": {
    "id": "h488GQ3J7dMh"
   },
   "source": [
    "### **Tugas 03 - 11 Oktober 2022**"
   ]
  },
  {
   "cell_type": "markdown",
   "metadata": {
    "id": "LXkF-DZ77h6d"
   },
   "source": [
    "Oleh:\n",
    "* Matthew Henry Prasetya NIM. 10819009 (nomor 1 & 2)\n",
    "* Jason Hadinata Putra NIM. 10819013 (nomor 1 & 3)"
   ]
  },
  {
   "cell_type": "markdown",
   "metadata": {
    "id": "XfjBbke_7mqU"
   },
   "source": [
    "#### 1. Dipilih fungsi peluang univariat dengan fungsi kepadatan peluang $f(x)=\\theta x$ dengan support $x \\in \\left\\langle 0, \\sqrt{\\frac{2}{\\theta}} \\right\\rangle$ dan parameter $\\theta > 0$."
   ]
  },
  {
   "cell_type": "markdown",
   "metadata": {
    "id": "L0DRo4pgAw5_"
   },
   "source": [
    "a. Tulis fungsi peluang, fungsi distribusi, fungsi kuantil, dan fungsi pembangkit momennya"
   ]
  },
  {
   "cell_type": "markdown",
   "metadata": {
    "id": "CEqU-TdoIL4j"
   },
   "source": [
    "Fungsi peluang univariat yang dipilih adalah $f(x)=\\theta x, x \\in \\left[ 0, \\sqrt{\\frac{2}{\\theta}} \\right], \\theta > 0$\n",
    "\n",
    "Fungsi distribusinya adalah $F(x)= \\frac{\\theta x^2}{2}$\n",
    "\n",
    "\\begin{align*}\n",
    "F(x) &= \\int_{0}^{x} {f(t)}~\\mathrm{d}t\\\\\n",
    "&= \\int_{0}^{x} {\\theta t}~\\mathrm{d}t\\\\\n",
    "&= \\left. \\frac{\\theta t^2}{2} \\right|_0^x \\\\\n",
    "&= \\frac{\\theta x^2}{2}\n",
    "\\end{align*}\n",
    "\n",
    "Fungsi kuantilnya adalah $F^{-1}(x)= {\\sqrt{\\frac{2x}{\\theta}}}$\n",
    "\n",
    "Fungsi pembangkit momennya adalah $Mx(t)=\\frac{\\theta {\\sqrt{\\frac{2}{\\theta}}} e^{t{\\sqrt{\\frac{2}{\\theta}}}}}{t}-\\frac{\\theta e^{t{\\sqrt{\\frac{2}{\\theta}}}}}{t^2}+\\frac{\\theta}{t^2}$\n",
    "\n",
    "\\begin{align*}\n",
    "Mx(t) &=E[e^{tx}]= \\int_{0}^{\\sqrt{\\frac{2}{\\theta}}} {e^{tx}f(x)}~\\mathrm{d}x\\\\\n",
    "&= \\int_{0}^{\\sqrt{\\frac{2}{\\theta}}} {e^{tx}\\theta x}~\\mathrm{d}x\\\\\n",
    "&= \\left. \\frac{\\theta x e^{tx}}{t} - \\frac{\\theta e^{tx}}{t^2} \\right|_0^{\\sqrt{\\frac{2}{\\theta}}} \\\\\n",
    "&= \\frac{\\theta {\\sqrt{\\frac{2}{\\theta}}} e^{t{\\sqrt{\\frac{2}{\\theta}}}}}{t}-\\frac{\\theta e^{t{\\sqrt{\\frac{2}{\\theta}}}}}{t^2}+\\frac{\\theta}{t^2}\n",
    "\\end{align*}\n"
   ]
  },
  {
   "cell_type": "markdown",
   "metadata": {
    "id": "9mQghPKiFTha"
   },
   "source": [
    "b. Konstruksi algoritma pembangkitan sampel acak dari distribusi tersebut"
   ]
  },
  {
   "cell_type": "markdown",
   "metadata": {
    "id": "RBRLqR0LG9BK"
   },
   "source": [
    "<!-- $a$ -->\n",
    "Algoritma pembangkitan sampel acak dilakukan menggunakan algoritma berikut.\n",
    "<ol>\n",
    "    <li>Bangkitkan secara uniform sebuah bilangan real antara 0 dan 1, misal $u$</li>\n",
    "    <li>Realisasi sampel acak yang bersesuaian adalah $x=F^{-1}(u)$</li>\n",
    "    <li>Kembali ke langkah pertama hingga ukuran sampel sesuai dengan yang diinginkan</li>\n",
    "</ol>"
   ]
  },
  {
   "cell_type": "markdown",
   "metadata": {
    "id": "Fxe_rqkpILMm"
   },
   "source": [
    "c. Hitung nilai ekspektasi yang dibangkitkan dengan metode yang sudah dijelaskan. Apakah nilai ekspektasinya bisa dijadikan kandidat penaksir momen dari parameter pada distribusi tersebut?"
   ]
  },
  {
   "cell_type": "markdown",
   "metadata": {
    "id": "C5E-EjsVIi_e"
   },
   "source": [
    "Akan dibangkitkan $1000$ sampel acak dengan distribusi dan metode yang sudah disebutkan. Sampel acak tersebut kemudian dicari nilai rata-ratanya. Dipilih nilai parameter $\\theta=1$."
   ]
  },
  {
   "cell_type": "code",
   "execution_count": null,
   "metadata": {
    "colab": {
     "base_uri": "https://localhost:8080/"
    },
    "executionInfo": {
     "elapsed": 331,
     "status": "ok",
     "timestamp": 1665069594375,
     "user": {
      "displayName": "Jason Hadinata",
      "userId": "11632702683678489562"
     },
     "user_tz": -420
    },
    "id": "pe0jS_9QIw13",
    "outputId": "20bf6364-a8e2-48d8-a9b3-4262ac934bbe"
   },
   "outputs": [
    {
     "name": "stdout",
     "output_type": "stream",
     "text": [
      "Rata-rata dari sampel adalah 0.9578137064907059\n"
     ]
    }
   ],
   "source": [
    "import numpy as np\n",
    "import random\n",
    "\n",
    "SEED = 42\n",
    "THETA = 1\n",
    "SAMPLE_SIZE = int(1e3)\n",
    "\n",
    "random.seed(SEED)\n",
    "\n",
    "sum = 0\n",
    "for i in range(SAMPLE_SIZE):\n",
    "    u = random.uniform(0,1)\n",
    "    sum += np.sqrt(2/THETA * u)\n",
    "\n",
    "xbar = sum/SAMPLE_SIZE\n",
    "print(f\"Rata-rata dari sampel adalah {xbar}\")"
   ]
  },
  {
   "cell_type": "markdown",
   "metadata": {
    "id": "LwM9SDQpPmJx"
   },
   "source": [
    "Misal $X$ peubah acak dengan fungsi kepadatan peluang $f(x)=\\theta x$. Ekspektasi dari $X$ diberikan oleh\n",
    "\\begin{align*}\n",
    "E[X] &= \\int_{0}^{\\sqrt{\\frac{2}{\\theta}}} {x \\cdot \\theta x}~\\mathrm{d}x \\\\\n",
    "&= \\theta \\int_{0}^{\\sqrt{\\frac{2}{\\theta}}} {x^{2}}~\\mathrm{d}x \\\\\n",
    "&= \\theta \\cdot \\left. \\frac{1}{3}x^{3} \\right|_{x=0}^{x=\\sqrt{\\frac{2}{\\theta}}} \\\\\n",
    "&= \\frac{1}{3} \\theta \\left(\\sqrt{\\frac{2}{\\theta}}\\right)^{3} \\\\\n",
    "&= \\frac{2\\sqrt{2}}{3\\sqrt{\\theta}}\n",
    "\\end{align*}\n",
    "sehingga\n",
    "\\begin{equation}\n",
    "\\theta = \\frac{8}{9E[X]^{2}}.\n",
    "\\end{equation}\n",
    "\n",
    "Karena $E[X]$ ditaksir oleh $\\bar{x}$, $\\theta$ dapat ditaksir dengan metode momen oleh statistik\n",
    "\\begin{align*}\n",
    "\\hat{\\theta}=\\frac{8}{9\\bar{x}^{2}}\n",
    "\\end{align*}\n",
    "sehingga nilai ekspektasi tersebut bisa dijadikan kandidat penaksir momen dari parameter distribusi yang dipilih. Penaksir momen tersebut tak bias secara asimtotik (Ben).\n",
    "\n",
    "Taksiran parameter $\\theta$ bisa dilihat di bawah."
   ]
  },
  {
   "cell_type": "code",
   "execution_count": null,
   "metadata": {
    "colab": {
     "base_uri": "https://localhost:8080/"
    },
    "executionInfo": {
     "elapsed": 375,
     "status": "ok",
     "timestamp": 1665069597109,
     "user": {
      "displayName": "Jason Hadinata",
      "userId": "11632702683678489562"
     },
     "user_tz": -420
    },
    "id": "Gw6jDJ2Rme9F",
    "outputId": "41601b17-4ca1-4401-a51f-8fbaabf5889f"
   },
   "outputs": [
    {
     "name": "stdout",
     "output_type": "stream",
     "text": [
      "Taksiran untuk theta adalah 0.9689143374121444\n"
     ]
    }
   ],
   "source": [
    "print(f\"Taksiran untuk theta adalah {8 / (9 * xbar**2)}\")"
   ]
  },
  {
   "cell_type": "markdown",
   "metadata": {
    "id": "6ylh-aInzmRD"
   },
   "source": [
    "Perlu diperhatikan bahwa penaksir momen tersebut bias. Hal ini terjadi karena $\\hat{\\theta}=\\frac{8}{9\\bar{x}^{2}}$ cekung ke atas sehingga penaksir momen tersebut bias berdasarkan pertidaksamaan Jensen,\n",
    "\n",
    "\\begin{align*}\n",
    "E[\\hat{\\Theta}] &= E \\left[ \\frac{8}{9\\bar{X}^{2}} \\right] > \\frac{8}{9E[\\bar{X}]^{2}} = \\theta.\n",
    "\\end{align*}"
   ]
  },
  {
   "cell_type": "markdown",
   "metadata": {
    "id": "s_CjMTh-c8_l"
   },
   "source": [
    "#### 2. Diberikan data frekuensi klaim yang bisa diakses dari https://bit.ly/2022-modris2-tugas03-dataset."
   ]
  },
  {
   "cell_type": "markdown",
   "metadata": {
    "id": "JlN1Q-lAd0hU"
   },
   "source": [
    "a. Konstruksikan fungsi likelihood, $\\mathcal{L}(\\theta \\mid \\mathbf{n})$, dari distribusi kelas (a,b,0), yaitu distribusi Binomial, Poisson, dan Binomial Negatif, dengan ${\\theta}$ adalah vektor parameter."
   ]
  },
  {
   "cell_type": "markdown",
   "metadata": {
    "id": "5LBSwQ8SeNHk"
   },
   "source": [
    "Matt, parameter yg diskret di binom sama neg binom pake r biar engga ketuker ya"
   ]
  },
  {
   "cell_type": "markdown",
   "metadata": {
    "id": "ET4r2_apeNj1"
   },
   "source": [
    "b. Buatlah suatu algoritma numerik untuk mencari $\\theta$ yang memaksimumkan fungsi likelihood. Buat simulasinya dan bandingkan jawaban dengan nilai penaksir likelihood analitik serta berikan analisis perbandingan dari hasil yang diperoleh."
   ]
  },
  {
   "cell_type": "markdown",
   "metadata": {
    "id": "7NSm19eqgWDT"
   },
   "source": [
    "Untuk melakukan optimisasi numerik, digunakan algoritma random search yang dimodifikasi. Algoritma ini akan bergerak secara acak di ruang parameter.\n",
    "\n",
    "Misal terdapat fungsi $f: \\mathbb{R}^{p} \\to \\mathbb{R}$. Algoritma ini akan memaksimumkan fungsi dengan algoritma sebagai berikut:\n",
    "<ol>\n",
    "    <li>Bangkitkan taksiran awal $\\mathbf{x}_{0} \\in \\mathbb{R}^{p}$.</li>\n",
    "    <li>Tentukan nilai learning rate/radius pencarian untuk iterasi ke-$i$, $\\alpha_{i}$.</li>\n",
    "    <li>Bangkitkan sejumlah hingga vektor acak $\\mathbf{y}_{j} \\in \\mathbb{R}^{p}$ yang elemen-elemennya berdistribusi normal baku dan saling bebas.</li>\n",
    "    <li>Hitung $\\mathbf{d}_{j}=\\frac{1}{r_{j}}\\mathbf{y}_{j}$ dengan $r_{j}=\\sqrt{\\sum_{i=1}^{p}{[\\mathbf{y}_{j}]_{i}^{2}}}$ dan $[\\mathbf{y}_{j}]_{i}$ elemen ke-$i$ dari vektor $\\mathbf{y}_{j}$ (Marsaglia, 1972).</li>\n",
    "    <li>Tentukan $\\mathbf{x}_{i+1}=\\mathbf{x}_{i}+\\alpha_{i}\\mathbf{d}_{j}$ sedemikian sehingga $f(\\mathbf{x}_{i}+\\alpha_{i}\\mathbf{d}_{j}) > f(\\mathbf{x}_{i})$. Jika tidak ada, $\\mathbf{x}_{i+1}=\\mathbf{x}_{i}$.</li>\n",
    "    <li>Hentikan iterasi jika $\\alpha_{i}<\\epsilon$ dan $f(\\mathbf{x}_{i+1})-f(\\mathbf{x}_{i})=\\Delta_{i} < \\epsilon$ untuk suatu nilai $\\epsilon > 0$ cukup kecil. Jika tidak terpenuhi, kembali ke langkah 2 dan lanjutkan untuk iterasi $i+1$.</li>\n",
    "</ol>\n",
    "\n",
    "Agar algoritma konvergen ke titik maksimum (lokal), barisan $(\\alpha_{i})$ harus konvergen ke nol namun deretnya divergen. Kekonvergenan barisan ke nol menjamin panjang \"langkah\" di iterasi ke-$i$, $\\left| \\alpha_{i}\\mathbf{d}_{j} \\right|=|\\alpha_{i}|$, menuju nol yang mana diperlukan untuk menjamin kekonvergenan barisan $(\\mathbf{x}_{i})$ ke $\\mathbf{x}$. Sementara itu, kedivergenan deret menjamin taksiran maksimum lokal bisa \"mencapai\" vektor manapun.\n",
    "\n",
    "Apabila barisan tidak konvergen ke nol (sehingga kedivergenan deret terpenuhi), panjang langkah tidak akan pernah nol sehingga barisan $(\\mathbf{x}_{i})$ tidak pernah konvergen ke titik maksimum (lokal) $\\mathbf{x}$. Di lain sisi, apabila deret konvergen (sehingga kekonvergenan barisan terpenuhi), akan ada $\\alpha$ sehingga deret $\\sum(\\alpha_{i})$ konvergen ke $\\alpha$ yang berarti jarak pencarian titik maksimum lokal akan terbatas hingga hanya sejauh $\\alpha$ dari $\\mathbf{x}_{0}$.\n",
    "\n",
    "Untuk mencegah underflow, fungsi yang dimaksimumkan adalah fungsi log-likelihood. Karena fungsi log monoton naik dan kontinu,\n",
    "\\begin{equation}\n",
    "\\underset{\\theta}{\\arg\\max\\,}{\\mathcal{L}(\\theta\\mid\\mathbf{n})} = \\underset{\\theta}{\\arg\\max\\,}\\log{({\\mathcal{L}(\\theta\\mid\\mathbf{n})})} = \\underset{\\theta}{\\arg\\max\\,}{\\mathcal{l}(\\theta\\mid\\mathbf{n})}.\n",
    "\\end{equation}"
   ]
  },
  {
   "cell_type": "code",
   "execution_count": 191,
   "metadata": {
    "colab": {
     "base_uri": "https://localhost:8080/"
    },
    "executionInfo": {
     "elapsed": 3265,
     "status": "ok",
     "timestamp": 1665217806851,
     "user": {
      "displayName": "Jason Hadinata",
      "userId": "11632702683678489562"
     },
     "user_tz": -420
    },
    "id": "3rqEDS_2dJac",
    "outputId": "95744293-b216-4658-d66f-586ac79859c1"
   },
   "outputs": [
    {
     "name": "stdout",
     "output_type": "stream",
     "text": [
      "Drive already mounted at /gdrive; to attempt to forcibly remount, call drive.mount(\"/gdrive\", force_remount=True).\n",
      "/gdrive/MyDrive/Learn/宿題/七/Modris 2/Tugas03\n"
     ]
    }
   ],
   "source": [
    "from google.colab import drive\n",
    "drive.mount('/gdrive')\n",
    "%cd /gdrive/MyDrive/Learn/宿題/七/Modris 2/Tugas03\n",
    "\n",
    "import itertools\n",
    "import numpy as np\n",
    "np.set_printoptions(suppress=True)\n",
    "import pandas as pd\n",
    "from scipy.stats import poisson, binom, nbinom\n",
    "\n",
    "import matplotlib.pyplot as plt\n",
    "import seaborn as sns\n",
    "sns.set()\n",
    "\n",
    "n = pd.read_excel('dataset-insurance-xyz.xlsx', index_col=0)['total_claim_number']\n",
    "rvs = dict()"
   ]
  },
  {
   "cell_type": "markdown",
   "metadata": {
    "id": "nlhUOnvOfGru"
   },
   "source": [
    "Untuk distribusi Poisson, parameter $\\theta$ merupakan bilangan real positif sehingga algoritma random search dimodifikasi tersebut bisa langsung digunakan selama mengindahkan ruang parameter.\n",
    "\n",
    "Karena $\\theta$ bilangan real (positif), $\\mathbf{d}_{i}$ pasti berupa skalar antara $-1$ (ketika realisasi normal baku negatif) atau $1$ (ketika realisasi normal baku positif) sehingga himpunan $\\mathbf{d}_{i}$ yang mungkin berukuran dua. Alhasil, kedua nilai tersebut akan langsung digunakan tanpa pembangkitan sampel normal baku.\n",
    "\n",
    "Sebagai taksiran awal, dipilih $\\theta_{0}=\\max\\{n_{i} \\mid i < k, i \\in \\mathbb{N}\\}$ dan dipilih juga barisan $(\\alpha_{i})=\\left(\\frac{\\theta_{0}}{2i}\\right)$ yang merupakan barisan harmonik yang diskalakan."
   ]
  },
  {
   "cell_type": "code",
   "execution_count": 192,
   "metadata": {
    "colab": {
     "base_uri": "https://localhost:8080/"
    },
    "executionInfo": {
     "elapsed": 47762,
     "status": "ok",
     "timestamp": 1665217857197,
     "user": {
      "displayName": "Jason Hadinata",
      "userId": "11632702683678489562"
     },
     "user_tz": -420
    },
    "id": "0Av-qvPgdx33",
    "outputId": "03e7e0a0-4bc9-4e8f-e683-131d06a23f7b"
   },
   "outputs": [
    {
     "name": "stdout",
     "output_type": "stream",
     "text": [
      "Taksiran theta untuk Poisson adalah 19.905900019166918\n"
     ]
    }
   ],
   "source": [
    "EPSILON = 1e-3\n",
    "\n",
    "# Initial condition\n",
    "theta0 = max(n)\n",
    "alpha = lambda i: theta0 / (2*i)\n",
    "l = lambda theta: np.sum(poisson.logpmf(n, theta))\n",
    "\n",
    "# Prepping for iteration\n",
    "i = 1\n",
    "theta = theta0\n",
    "while True:\n",
    "    # List possible steps\n",
    "    steps = alpha(i) * np.array([-1, 0, 1])\n",
    "    # Determine log likelihood for each step\n",
    "    ls = [l(theta + step) for step in steps]\n",
    "\n",
    "    # Determine the theta that gives maximum log likelihood\n",
    "    imax = np.argmax(ls)\n",
    "    step = steps[imax]\n",
    "    # Calculate the difference of log likelihood\n",
    "    delta = l(theta + step) - l(theta)\n",
    "\n",
    "    # Update theta\n",
    "    theta = theta + step\n",
    "\n",
    "    # If the step and the difference are small enough, break\n",
    "    if alpha(i) < EPSILON and delta < EPSILON:\n",
    "        break\n",
    "\n",
    "    # Else iterate\n",
    "    i += 1\n",
    "\n",
    "rvs['Poisson'] = poisson(theta)\n",
    "print(f\"Taksiran theta untuk Poisson adalah {theta}\")"
   ]
  },
  {
   "cell_type": "markdown",
   "metadata": {
    "id": "HJJqyCJ_eFr6"
   },
   "source": [
    "Berbeda dengan distribusi Poisson, distribusi Binomial dan Binomial Negatif memiliki dua parameter dan salah satunya merupakan bilangan asli sehingga algoritma random search tersebut harus dimodifikasi ulang agar bisa mengakomodasi mereka. Modifikasi dilakukan pada langkah 3, yaitu akan dilakukan pengecekan ke parameter $r+1$, $r$, dan $r-1$ untuk setiap langkah.\n",
    "\n",
    "Mirip seperti distribusi Poisson, parameter $p$ berada pada (subset) bilangan real, sehingga arah $\\mathbf{d}_{j}$ hanya mungkin $-1$ dan $1$ dan pembangkitan sampel acak normal baku tidak diperlukan.\n",
    "\n",
    "Sebagai taksiran awal, dipilih $\\theta_{0}=\\begin{bmatrix}\\max\\{n_{i} \\mid i < k, i \\in \\mathbb{N}\\} \\\\ \\frac{1}{2}\\end{bmatrix}$ dan dipilih juga barisan untuk parameter $p=[\\theta]_{2}$ yaitu $(\\alpha_{i})=\\left(\\frac{1}{3i}\\right)$ yang merupakan barisan harmonik yang diskalakan."
   ]
  },
  {
   "cell_type": "code",
   "execution_count": 193,
   "metadata": {
    "colab": {
     "base_uri": "https://localhost:8080/"
    },
    "executionInfo": {
     "elapsed": 16965,
     "status": "ok",
     "timestamp": 1665217874152,
     "user": {
      "displayName": "Jason Hadinata",
      "userId": "11632702683678489562"
     },
     "user_tz": -420
    },
    "id": "iyy1ohzpmgCx",
    "outputId": "0044865d-7137-4d2b-e8ee-89d1d63c343d"
   },
   "outputs": [
    {
     "name": "stdout",
     "output_type": "stream",
     "text": [
      "Taksiran theta untuk Binomial adalah [1094.           0.0182305]\n"
     ]
    }
   ],
   "source": [
    "EPSILON = 1e-4\n",
    "\n",
    "# Initial condition\n",
    "theta0 = np.array([max(n), 0.5])\n",
    "alpha = lambda i: 1 / (3*i)\n",
    "l = lambda theta: np.sum(binom.logpmf(n, theta[0], theta[1]))\n",
    "\n",
    "# Prepping for iteration\n",
    "i = 1\n",
    "theta = theta0\n",
    "while True:\n",
    "    # List possible steps\n",
    "    r_steps = np.array([-1, 0, 1])\n",
    "    p_steps = alpha(i) * np.array([-1, 0, 1])\n",
    "    # Get the cartesian product\n",
    "    steps = np.array(list(itertools.product(r_steps, p_steps)))\n",
    "    # Determine log likelihood for each step\n",
    "    ls = [l(theta + step) for step in steps]\n",
    "\n",
    "    # Determine the theta that gives maximum log likelihood\n",
    "    imax = np.argmax(ls)\n",
    "    step = steps[imax]\n",
    "    # Calculate the difference of log likelihood\n",
    "    delta = l(theta + step) - l(theta)\n",
    "\n",
    "    # Update theta\n",
    "    theta = theta + step\n",
    "\n",
    "    # If the step and the difference are small enough, break\n",
    "    if alpha(i) < EPSILON and delta < EPSILON:\n",
    "        break\n",
    "\n",
    "    # Else iterate\n",
    "    i += 1\n",
    "\n",
    "rvs['Binomial'] = binom(theta[0], theta[1])\n",
    "print(f\"Taksiran theta untuk Binomial adalah {theta}\")"
   ]
  },
  {
   "cell_type": "code",
   "execution_count": 194,
   "metadata": {
    "colab": {
     "base_uri": "https://localhost:8080/"
    },
    "executionInfo": {
     "elapsed": 14261,
     "status": "ok",
     "timestamp": 1665217888404,
     "user": {
      "displayName": "Jason Hadinata",
      "userId": "11632702683678489562"
     },
     "user_tz": -420
    },
    "id": "jwwIRE6U2Pa6",
    "outputId": "fc7539b4-b202-4f28-bff2-a0315b243ea1"
   },
   "outputs": [
    {
     "name": "stdout",
     "output_type": "stream",
     "text": [
      "Taksiran theta untuk Binomial Negatif adalah [11.          0.35596331]\n"
     ]
    }
   ],
   "source": [
    "EPSILON = 1e-4\n",
    "\n",
    "# Initial condition\n",
    "theta0 = np.array([max(n), 0.5])\n",
    "alpha = lambda i: 1 / (3*i)\n",
    "l = lambda theta: np.sum(nbinom.logpmf(n, theta[0], theta[1]))\n",
    "\n",
    "# Prepping for iteration\n",
    "i = 1\n",
    "theta = theta0\n",
    "while True:\n",
    "    # List possible steps\n",
    "    r_steps = np.array([-1, 0, 1])\n",
    "    p_steps = alpha(i) * np.array([-1, 0, 1])\n",
    "    # Get the cartesian product\n",
    "    steps = np.array(list(itertools.product(r_steps, p_steps)))\n",
    "    # Determine log likelihood for each step\n",
    "    ls = [l(theta + step) for step in steps]\n",
    "\n",
    "    # Determine the theta that gives maximum log likelihood\n",
    "    imax = np.argmax(ls)\n",
    "    step = steps[imax]\n",
    "    # Calculate the difference of log likelihood\n",
    "    delta = l(theta + step) - l(theta)\n",
    "\n",
    "    # Update theta\n",
    "    theta = theta + step\n",
    "\n",
    "    # If the step and the difference are small enough, break\n",
    "    if alpha(i) < EPSILON and delta < EPSILON:\n",
    "        break\n",
    "\n",
    "    # Else iterate\n",
    "    i += 1\n",
    "\n",
    "rvs['Binomial Negatif'] = nbinom(theta[0], theta[1])\n",
    "print(f\"Taksiran theta untuk Binomial Negatif adalah {theta}\")"
   ]
  },
  {
   "cell_type": "markdown",
   "metadata": {
    "id": "URzr805MV7MU"
   },
   "source": [
    "c. Distribusi manakah yang terbaik memodelkan frekuensi klaim?"
   ]
  },
  {
   "cell_type": "markdown",
   "metadata": {
    "id": "eDxJX7Bj1Woo"
   },
   "source": [
    "Salah satu cara menentukan model terbaik adalah melihat nilai Akaike Information Criterion (AIC). Nilai ini menyeimbangkan antara penambahan parameter dan penambahan log likelihood yang disebabkan penambahan parameter. Semakin kecil AIC, semakin baik kualitas dari pemodelan data. AIC diberikan oleh\n",
    "\\begin{equation}\n",
    "    AIC=2k-2l.\n",
    "\\end{equation}\n",
    "\n",
    "Diagram batang dari tiap distribusi yang disuperimposisi di atas histogram sampel dapat dilihat di bawah. Nilai AIC dari tiap model tertulis pada tiap legenda."
   ]
  },
  {
   "cell_type": "code",
   "execution_count": 213,
   "metadata": {
    "colab": {
     "base_uri": "https://localhost:8080/",
     "height": 347
    },
    "executionInfo": {
     "elapsed": 2317,
     "status": "ok",
     "timestamp": 1665221180480,
     "user": {
      "displayName": "Jason Hadinata",
      "userId": "11632702683678489562"
     },
     "user_tz": -420
    },
    "id": "ufhAkWsQnudf",
    "outputId": "9c957b02-fead-4c04-8b86-3cafafd2c07f"
   },
   "outputs": [
    {
     "data": {
      "image/png": "[encoded data removed]",
      "text/plain": [
       "<Figure size 1152x345.6 with 3 Axes>"
      ]
     },
     "metadata": {},
     "output_type": "display_data"
    }
   ],
   "source": [
    "x = np.arange(max(n)+1)\n",
    "\n",
    "colors = ['orange', 'red', 'green']\n",
    "n_params = [1, 2, 2]\n",
    "\n",
    "fig, axs = plt.subplots(1, 3, sharey='row', figsize=[2.5*6.4, 4.8])\n",
    "\n",
    "# Setting figure\n",
    "fig.tight_layout()\n",
    "\n",
    "# Populating axes\n",
    "for k, ax, color, n_param in zip(rvs, axs, colors, n_params):\n",
    "    aic = 2*n_param - 2*np.sum(rvs[k].logpmf(n))\n",
    "    ax.hist(n, density=True, bins=np.arange(max(n)+2)-0.5, label='Sampel', color='black', alpha=0.5)\n",
    "    ax.bar(x, rvs[k].pmf(x), width=1, label=f\"{k}\\nAIC={aic:.3f}\", color=color, alpha=0.5)\n",
    "    ax.legend(loc='best')\n",
    "\n",
    "plt.show()"
   ]
  },
  {
   "cell_type": "markdown",
   "metadata": {
    "id": "N6a8TiTX4Bg3"
   },
   "source": [
    "Model Binomial Negatif adalah distribusi terbaik yang memodelkan frekuensi klaim perusahaan asuransi XYZ. Hal ini terlihat dari nilai AIC paling kecil yang dicapai oleh distribusi Binomial Negatif. Selain itu, terlihat juga dari gambar bahwa diagram batang distribusi Poisson dan Binomial banyak tidak bersinggungan untuk nilai yang jauh dari rata-rata, sementara nilai di sekitar rata-ratanya terlalu besar.\n",
    "\n",
    "Selain itu, terlihat juga bahwa variansi sampel lebih besar daripada rata-rata sampel sementara distribusi Poisson memiliki variansi yang sama dengan rata-rata dan distribusi Binomial memiliki variansi yang lebih kecil dari rata-rata. Satu-satunya dari ketiga model yang memiliki variansi lebih besar dari rata-ratanya adalah Binomial Negatif. Hal ini menjelaskan juga ketidakstabilan dari metode numerik untuk distribusi Binomial. Semakin kecil $\\epsilon$ dipilih, nilai $n$ semakin besar dan $p$ semakin kecil sehingga distribusinya mendekati distribusi Poisson yang paling bisa mengakomodasi overdispersi dari sampel (meskipun sebenarnya tidak bisa)."
   ]
  },
  {
   "cell_type": "markdown",
   "metadata": {
    "id": "LFPn2cqArq4S"
   },
   "source": [
    "#### Referensi"
   ]
  },
  {
   "cell_type": "markdown",
   "metadata": {
    "id": "VEZipC6XrrTu"
   },
   "source": [
    "Tse, Yiu-Kuen. 2009. *Nonlife Actuarial Models Theory, Methods and Evaluation*. New York: Cambridge University Press.\n",
    "\n",
    "Hogg, R., McKean, J., Craig, A. (2019) Introduction to Mathematical Statistics. 8th Edition. Boston: Pearson.\n",
    "\n",
    "Taboga, Marco (2021). \"Maximum likelihood - Numerical optimization algorithm\", Lectures on probability theory and mathematical statistics. Kindle Direct Publishing. Online appendix. https://www.statlect.com/fundamentals-of-statistics/maximum-likelihood-algorithm.\n",
    "\n",
    "\n",
    "Larson R. C. & Odoni A. R. (1981). *Urban operations research*. Prentice-Hall. https://web.mit.edu/urban_or_book/www/book/index.html.\n",
    "\n",
    "Ben (https://stats.stackexchange.com/users/173082/ben), \"Appropriate conditions\" for method of moments estimator to exist, be consistent, and asymptotically normal?, URL (version: 2019-05-06): https://stats.stackexchange.com/q/406768\n",
    "\n",
    "Marsaglia, G. (1972). \"Choosing a Point from the Surface of a Sphere\". Annals of Mathematical Statistics. 43 (2): 645–646. doi:10.1214/aoms/1177692644"
   ]
  }
 ],
 "metadata": {
  "colab": {
   "collapsed_sections": [],
   "provenance": []
  },
  "kernelspec": {
   "display_name": "Python 3 (ipykernel)",
   "language": "python",
   "name": "python3"
  },
  "language_info": {
   "codemirror_mode": {
    "name": "ipython",
    "version": 3
   },
   "file_extension": ".py",
   "mimetype": "text/x-python",
   "name": "python",
   "nbconvert_exporter": "python",
   "pygments_lexer": "ipython3",
   "version": "3.9.12"
  }
 },
 "nbformat": 4,
 "nbformat_minor": 1
}
