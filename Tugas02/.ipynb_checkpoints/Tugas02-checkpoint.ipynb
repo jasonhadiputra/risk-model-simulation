{
 "cells": [
  {
   "cell_type": "markdown",
   "metadata": {
    "id": "GACeB3E9wVJ6"
   },
   "source": [
    "# AK4183 Model Risiko II dan Simulasi"
   ]
  },
  {
   "cell_type": "markdown",
   "metadata": {
    "id": "HBeJ4PGNwZe4"
   },
   "source": [
    "### **Tugas 02 - 13 September 2022**"
   ]
  },
  {
   "cell_type": "markdown",
   "metadata": {
    "id": "4LfNsnMuwdRt"
   },
   "source": [
    "Oleh:\n",
    "* Matthew Henry Prasetya NIM. 10819009 (nomor 1 & 2)\n",
    "* Jason Hadinata NIM. 10819013 (nomor 3)\n",
    " "
   ]
  },
  {
   "cell_type": "markdown",
   "metadata": {
    "id": "ACmiueFjyW1a"
   },
   "source": [
    "#### 1. Tabel himpunan risiko memuat atribut $j$, $y_j$, $w_j$, dan $r_j$. Pertama akan **didefinisikan** $j$, $y_j$, $w_j$, dan $r_j$. Kemudian, akan diberikan **formulasi** yang bersesuaian untuk mendapat masing-masing atribut."
   ]
  },
  {
   "cell_type": "markdown",
   "metadata": {
    "id": "BH8NcvPh3Jlg"
   },
   "source": [
    "**Solusi:**"
   ]
  },
  {
   "cell_type": "markdown",
   "metadata": {
    "id": "zntwhvdXEztL"
   },
   "source": [
    "<!-- $a$ -->\n",
    "Untuk data lengkap, tabel definisi dan formulasi dari himpunan risiko dapat dilihat di bawah.\n",
    "\n",
    "<table>\n",
    "    <tr>\n",
    "        <th style=\"text-align:center\">Atribut</th>\n",
    "        <th style=\"text-align:center\">Definisi</th>\n",
    "        <th style=\"text-align:center\">Formula</th>\n",
    "    </tr>\n",
    "    <tr>\n",
    "        <td>$$j$$</td>\n",
    "        <td>Indeks yang merupakan bilangan asli dari observasi unik/berbeda yang diurutkan.</td>\n",
    "        <td>$$j, ~j \\in \\{1,2,\\ldots,m\\}$$</td>\n",
    "    </tr>\n",
    "    <tr>\n",
    "        <td>$$y_{j}$$</td>\n",
    "        <td>Observasi unik/berbeda sebanyak $m$ dari seluruh observasi $\\mathbf{x}=(x_{i})_{i=1}^{n}$ yang diurutkan.</td>\n",
    "        <td>\n",
    "            $$0 < y_{1} < y_{2} < \\ldots < y_{m}, ~m \\leq n,$$\n",
    "            $$y_{j} \\in \\{x_{i}\\}_{i=1}^{n}, ~j \\in \\{1,2,\\ldots,m\\}$$\n",
    "        </td>\n",
    "    </tr>\n",
    "    <tr>\n",
    "        <td>$$w_{j}$$</td>\n",
    "        <td>Frekuensi $y_{j}$ muncul di observasi $\\mathbf{x}=(x_{i})_{i=1}^{n}$.</td>\n",
    "        <td>$$w_{j} = \\sum_{i=1}^{n} I_{\\{y_{j}\\}}(x_{i})$$</td>\n",
    "    </tr>\n",
    "    <tr>\n",
    "        <td>$$r_{j}$$</td>\n",
    "        <td>Himpunan risiko pada waktu $y_{j}$, banyaknya observasi yang terpapar risiko <br>kematian/kegagalan pada waktu $y_{j}$.</td>\n",
    "        <td>$$r_{j}=\\sum_{i=j}^{m}{w_{i}}$$</td>\n",
    "    </tr>\n",
    "</table>"
   ]
  },
  {
   "cell_type": "markdown",
   "metadata": {
    "id": "GIZVoRiJwUMo"
   },
   "source": [
    "#### 2. Tuliskan dalam algoritma, berbasis formula pada soal nomor 1, untuk mendapatkan $\\mathbf{r}=(r_{j})_{j=1}^{m}$ diberikan $\\mathbf{x}=(x_i)_{i=1}^n$."
   ]
  },
  {
   "cell_type": "markdown",
   "metadata": {
    "id": "DhmKbNsa1DZH"
   },
   "source": [
    "**Solusi:**\n",
    "\n",
    "Berikut adalah rancangan algoritma untuk mendapatkan $\\mathbf{r}=(r_{j})_{j=1}^{m}$ bila diberikan $\\mathbf{x}=(x_i)_{i=1}^n$."
   ]
  },
  {
   "cell_type": "markdown",
   "metadata": {
    "id": "yW5jQZ00E0yX"
   },
   "source": [
    "Masukan: $\\mathbf{x}=(x_{i})_{i=1}^{n}$\n",
    "\n",
    "<ol>\n",
    "    <li>Hitung frekuensi dari tiap observasi unik dan definisikan nilai observasi tersebut dari kecil ke besar sebagai $\\mathbf{y}=(y_{j})_{j=1}^{m}$ dan banyak observasinya secara berturut-turut sebagai $\\mathbf{w}=(w_{j})_{j=1}^{m}$</li>\n",
    "    <li>Hitung $r_{j}=\\sum_{i=j}^{m}{w_{i}}$</li>\n",
    "    <li>Gabungkan $\\mathbf{j}$, $\\mathbf{y}$, $\\mathbf{w}$, dan $\\mathbf{r}$ dalam satu tabel</li>\n",
    "</ol>\n",
    "\n",
    "Luaran: Tabel $\\begin{bmatrix} \\mathbf{j} & \\mathbf{y} & \\mathbf{w} & \\mathbf{r} \\end{bmatrix}$"
   ]
  },
  {
   "cell_type": "markdown",
   "metadata": {
    "id": "V33zv91Oyq6j"
   },
   "source": [
    "#### 3. Berdasarkan algoritma Anda pada nomor 2, buatlah suatu simulasi menggunakan data **titik waktu kedatangan klaim** pada tautan https://bit.ly/2022-modris2-tugas02-dataset. Lalu, tampilkan hasil akhir **dalam tabel** yang memuat $j$, $y_j$, $w_j$, dan $r_j$."
   ]
  },
  {
   "cell_type": "markdown",
   "metadata": {
    "id": "jS1bmBq63Mrl"
   },
   "source": [
    "**Solusi:**"
   ]
  },
  {
   "cell_type": "code",
   "execution_count": null,
   "metadata": {
    "colab": {
     "base_uri": "https://localhost:8080/"
    },
    "executionInfo": {
     "elapsed": 22376,
     "status": "ok",
     "timestamp": 1662952042351,
     "user": {
      "displayName": "Jason Hadinata",
      "userId": "11632702683678489562"
     },
     "user_tz": -420
    },
    "id": "1koJh8W66HVk",
    "outputId": "b96b3e97-a8bc-40b5-81aa-0effead074de"
   },
   "outputs": [
    {
     "name": "stdout",
     "output_type": "stream",
     "text": [
      "Mounted at /gdrive\n",
      "/gdrive/MyDrive/Learn/宿題/七/Modris 2/Tugas02\n"
     ]
    }
   ],
   "source": [
    "from google.colab import drive\n",
    "drive.mount('/gdrive')\n",
    "%cd /gdrive/MyDrive/Learn/宿題/七/Modris 2/Tugas02"
   ]
  },
  {
   "cell_type": "code",
   "execution_count": null,
   "metadata": {
    "colab": {
     "base_uri": "https://localhost:8080/"
    },
    "executionInfo": {
     "elapsed": 878,
     "status": "ok",
     "timestamp": 1662952149886,
     "user": {
      "displayName": "Jason Hadinata",
      "userId": "11632702683678489562"
     },
     "user_tz": -420
    },
    "id": "PmAxkmHQyt9n",
    "outputId": "37d89a9c-6e9f-48ff-ad2b-eb69e279f01d"
   },
   "outputs": [
    {
     "name": "stdout",
     "output_type": "stream",
     "text": [
      "    yj   wj    rj\n",
      "j                \n",
      "1   21   85  2000\n",
      "2   22   73  1915\n",
      "3   23   63  1842\n",
      "4   24   46  1779\n",
      "5   25   50  1733\n",
      "6   26   49  1683\n",
      "7   27   40  1634\n",
      "8   28   30  1594\n",
      "9   29   36  1564\n",
      "10  30   27  1528\n",
      "11  31   29  1501\n",
      "12  32   26  1472\n",
      "13  33   17  1446\n",
      "14  34   31  1429\n",
      "15  35   33  1398\n",
      "16  36   39  1365\n",
      "17  37   38  1326\n",
      "18  38   48  1288\n",
      "19  39   67  1240\n",
      "20  40   60  1173\n",
      "21  41   71  1113\n",
      "22  42  108  1042\n",
      "23  43  108   934\n",
      "24  44  123   826\n",
      "25  45  142   703\n",
      "26  46  127   561\n",
      "27  47  139   434\n",
      "28  48  147   295\n",
      "29  49  148   148\n"
     ]
    }
   ],
   "source": [
    "import pandas as pd\n",
    "\n",
    "# 0. Load data\n",
    "xi = pd.read_csv('dataset.csv', header=None).squeeze('columns')\n",
    "\n",
    "# 1. Count occurence of each unique value (yj) as wj\n",
    "wj = xi.value_counts()\n",
    "\n",
    "# 2. Count rj from cumsum of wj\n",
    "wj.sort_index(ascending=False, inplace=True)\n",
    "rj = wj.cumsum()\n",
    "\n",
    "# 3. Concatenating and tidying up\n",
    "df = pd.concat([wj,rj], axis=1)\n",
    "df.sort_index(inplace=True)\n",
    "df.reset_index(inplace=True)\n",
    "df.set_axis(['yj','wj','rj'], axis=1, inplace=True)\n",
    "df.index = df.index + 1\n",
    "df.rename_axis(index='j', inplace=True)\n",
    "\n",
    "print(df)"
   ]
  },
  {
   "cell_type": "markdown",
   "metadata": {
    "id": "Nl2VR9S0mbro"
   },
   "source": [
    "#### Referensi"
   ]
  },
  {
   "cell_type": "markdown",
   "metadata": {
    "id": "0CtS5Z9emeT1"
   },
   "source": [
    "Tse, Yiu-Kuen. 2009. *Nonlife Actuarial Models Theory, Methods and Evaluation*. New York:Cambridge University Press."
   ]
  }
 ],
 "metadata": {
  "colab": {
   "collapsed_sections": [],
   "provenance": []
  },
  "kernelspec": {
   "display_name": "Python 3 (ipykernel)",
   "language": "python",
   "name": "python3"
  },
  "language_info": {
   "codemirror_mode": {
    "name": "ipython",
    "version": 3
   },
   "file_extension": ".py",
   "mimetype": "text/x-python",
   "name": "python",
   "nbconvert_exporter": "python",
   "pygments_lexer": "ipython3",
   "version": "3.9.12"
  },
  "vscode": {
   "interpreter": {
    "hash": "085b65f6b25d70f5febde66f680838c2372ec123baa4fa212e68b443b3e0f4dd"
   }
  }
 },
 "nbformat": 4,
 "nbformat_minor": 1
}
